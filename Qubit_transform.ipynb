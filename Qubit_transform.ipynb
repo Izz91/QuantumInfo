{
 "cells": [
  {
   "cell_type": "code",
   "execution_count": null,
   "id": "09b95f78",
   "metadata": {},
   "outputs": [],
   "source": [
    "import numpy as np\n",
    "import matplotlib.pyplot as plt\n",
    "\n",
    "def wigner_function(rho):\n",
    "    # Define the phase space grid\n",
    "    x = np.linspace(-3, 3, 100)\n",
    "    p = np.linspace(-3, 3, 100)\n",
    "    X, P = np.meshgrid(x, p)\n",
    "\n",
    "    # Initialize the Wigner function\n",
    "    W = np.zeros_like(X, dtype=np.complex128)\n",
    "\n",
    "    # Loop over the phase space grid\n",
    "    for i in range(len(x)):\n",
    "        for j in range(len(p)):\n",
    "            # Evaluate the Weyl symbol at each point\n",
    "            W[i, j] = np.trace(rho * displacement_operator(x[i], p[j]))\n",
    "\n",
    "    # Normalize the Wigner function\n",
    "    W /= np.sum(W) * (x[1] - x[0]) * (p[1] - p[0])\n",
    "\n",
    "    return X, P, W.real\n",
    "\n",
    "def displacement_operator(alpha, beta):\n",
    "    # Define the displacement operator\n",
    "    D = np.exp(alpha * pauli_x + beta * pauli_z)\n",
    "\n",
    "    return D\n",
    "\n",
    "# Define the Pauli matrices\n",
    "pauli_x = np.array([[0, 1], [1, 0]])\n",
    "pauli_z = np.array([[1, 0], [0, -1]])\n",
    "\n",
    "# Define the qubit state density matrix\n",
    "rho = np.array([[0.5, 0.3], [0.3, 0.5]])\n",
    "\n",
    "# Calculate the Wigner function\n",
    "X, P, W = wigner_function(rho)\n",
    "\n",
    "# Plot the Wigner function\n",
    "plt.contourf(X, P, W, levels=100, cmap='RdBu_r')\n",
    "plt.colorbar()\n",
    "plt.xlabel('Position')\n",
    "plt.ylabel('Momentum')\n",
    "plt.title('Wigner Function')\n",
    "plt.show()\n"
   ]
  }
 ],
 "metadata": {
  "kernelspec": {
   "display_name": "Python 3 (ipykernel)",
   "language": "python",
   "name": "python3"
  },
  "language_info": {
   "codemirror_mode": {
    "name": "ipython",
    "version": 3
   },
   "file_extension": ".py",
   "mimetype": "text/x-python",
   "name": "python",
   "nbconvert_exporter": "python",
   "pygments_lexer": "ipython3",
   "version": "3.8.13"
  }
 },
 "nbformat": 4,
 "nbformat_minor": 5
}
